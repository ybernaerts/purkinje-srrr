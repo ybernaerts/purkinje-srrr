{
 "cells": [
  {
   "cell_type": "markdown",
   "metadata": {},
   "source": [
    "## Figure: bibiplots"
   ]
  },
  {
   "cell_type": "code",
   "execution_count": 1,
   "metadata": {},
   "outputs": [],
   "source": [
    "import numpy as np\n",
    "import matplotlib.pyplot as plt\n",
    "import pickle\n",
    "import seaborn as sns\n",
    "\n",
    "import sys\n",
    "sys.path.append('../code')\n",
    "import sparseRRR"
   ]
  },
  {
   "cell_type": "code",
   "execution_count": 2,
   "metadata": {},
   "outputs": [],
   "source": [
    "def preprocess(data):\n",
    "    X = data['Firing rate']\n",
    "    X = X - np.mean(X, axis=0)\n",
    "    X = X / np.std(X, axis=0)\n",
    "\n",
    "    Y = data['Locomotion']\n",
    "    Y = Y - np.mean(Y, axis=0)\n",
    "    Y = Y / np.std(Y, axis=0)\n",
    "    \n",
    "    return X,Y"
   ]
  },
  {
   "cell_type": "code",
   "execution_count": 3,
   "metadata": {},
   "outputs": [],
   "source": [
    "def adjustlabels(fig, labels, max_iter=1000, eps=0.01, delta=0.1):\n",
    "    N = len(labels)\n",
    "    widths = np.zeros(N)\n",
    "    heights = np.zeros(N)\n",
    "    centers = np.zeros((N, 2))\n",
    "    for i,l in enumerate(labels):\n",
    "        bb = l.get_window_extent(renderer=fig.canvas.get_renderer())\n",
    "        bb = bb.transformed(plt.gca().transData.inverted())\n",
    "        widths[i] = bb.width\n",
    "        heights[i] = bb.height\n",
    "        centers[i] = (bb.min + bb.max)/2\n",
    "\n",
    "    for i in range(max_iter):\n",
    "        stop = True\n",
    "        for a in range(N):\n",
    "            for b in range(N):\n",
    "                if ((a!=b) and\n",
    "                    (np.abs(centers[a,0]-centers[b,0]) < (widths[a]+widths[b])/2 + delta) and\n",
    "                    (np.abs(centers[a,1]-centers[b,1]) < (heights[a]+heights[b])/2 +  delta)):\n",
    "                    \n",
    "                    d = centers[a] - centers[b]\n",
    "                    centers[a] += d * eps\n",
    "                    centers[b] -= d * eps\n",
    "                    labels[a].set_position(centers[a])\n",
    "                    labels[b].set_position(centers[b])\n",
    "                    stop = False\n",
    "        if stop:\n",
    "            break"
   ]
  },
  {
   "cell_type": "code",
   "execution_count": 4,
   "metadata": {},
   "outputs": [],
   "source": [
    "slice = np.linspace(0, 10000, 10000, dtype=int)"
   ]
  },
  {
   "cell_type": "code",
   "execution_count": 5,
   "metadata": {},
   "outputs": [
    {
     "name": "stdout",
     "output_type": "stream",
     "text": [
      "Shape of X: (2691968, 105) \n",
      "Shape of Y: (2691968, 4)\n",
      "13 neurons selected:\n"
     ]
    }
   ],
   "source": [
    "data = pickle.load(open('../data/purkinje.pickle', 'rb'))\n",
    "X,Y = preprocess(data)\n",
    "print('Shape of X:', X.shape, '\\nShape of Y:', Y.shape)\n",
    "w,v = sparseRRR.relaxed_elastic_rrr(X[slice,:], Y[slice,:], rank=2, alpha=.26, l1_ratio=1)\n",
    "print('{} neurons selected:'.format(np.sum(w[:,0]!=0)))"
   ]
  },
  {
   "cell_type": "markdown",
   "metadata": {},
   "source": [
    "### Movie"
   ]
  },
  {
   "cell_type": "code",
   "execution_count": null,
   "metadata": {},
   "outputs": [],
   "source": [
    "def adjustlabels(fig, ax, labels, max_iter=1000, eps=0.01, delta=0.1):\n",
    "    N = len(labels)\n",
    "    widths = np.zeros(N)\n",
    "    heights = np.zeros(N)\n",
    "    centers = np.zeros((N, 2))\n",
    "    for i,l in enumerate(labels):\n",
    "        bb = l.get_window_extent(renderer=fig.canvas.get_renderer())\n",
    "        bb = bb.transformed(ax.transData.inverted())\n",
    "        widths[i] = bb.width\n",
    "        heights[i] = bb.height\n",
    "        centers[i] = (bb.min + bb.max)/2\n",
    "\n",
    "    for i in range(max_iter):\n",
    "        stop = True\n",
    "        for a in range(N):\n",
    "            for b in range(N):\n",
    "                if ((a!=b) and\n",
    "                    (np.abs(centers[a,0]-centers[b,0]) < (widths[a]+widths[b])/2 + delta) and\n",
    "                    (np.abs(centers[a,1]-centers[b,1]) < (heights[a]+heights[b])/2 +  delta)):\n",
    "                    \n",
    "                    d = centers[a] - centers[b]\n",
    "                    centers[a] += d * eps\n",
    "                    centers[b] -= d * eps\n",
    "                    labels[a].set_position(centers[a])\n",
    "                    labels[b].set_position(centers[b])\n",
    "                    stop = False\n",
    "        if stop:\n",
    "            break"
   ]
  },
  {
   "cell_type": "code",
   "execution_count": 52,
   "metadata": {},
   "outputs": [],
   "source": [
    "xylim=3.9\n",
    "scaleFactor=3.5\n",
    "s=2\n",
    "time_samples=slice[::10][:5]\n",
    "L = np.corrcoef(np.concatenate((Zy[:,:2], Y[slice,:]), axis=1), rowvar=False)[2:,:2]"
   ]
  },
  {
   "cell_type": "code",
   "execution_count": 68,
   "metadata": {},
   "outputs": [],
   "source": [
    "for i, tp in enumerate(slice[::100][1:]):\n",
    "    fig, axes = plt.subplots(1, 2, figsize=(6, 3))\n",
    "    ax1 = axes[0]\n",
    "    ax2 = axes[1]\n",
    "    \n",
    "    # Plotting on ax1\n",
    "    ax1.scatter(Zx[0:tp, 0], Zx[0:tp, 1], c=range(tp), cmap='viridis', s=1)\n",
    "    labels = []\n",
    "    L = np.corrcoef(np.concatenate((Zx[:, :2], X[slice, :]), axis=1), rowvar=False)[2:, :2]\n",
    "    for j in np.where(w[:, 0] != 0)[0]:\n",
    "        ax1.plot([0, scaleFactor * L[j, 0]], [0, scaleFactor * L[j, 1]], linewidth=.75, color=[.4, .4, .4], zorder=1)\n",
    "        t = ax1.text(scaleFactor * L[j, 0], scaleFactor * L[j, 1], data['cell_names'][j], \n",
    "                     ha='center', va='center', color='k', fontsize=6,\n",
    "                     bbox=dict(facecolor='w', edgecolor='#777777', boxstyle='round', linewidth=.5, pad=.2))\n",
    "        labels.append(t)\n",
    "    adjustlabels(fig, ax1, labels)\n",
    "    circ = plt.Circle((0, 0), radius=scaleFactor, color=[.4, .4, .4], fill=False, linewidth=.5)\n",
    "    ax1.add_patch(circ)\n",
    "    \n",
    "    # Plotting on ax2\n",
    "    ax2.scatter(Zy[0:tp, 0], Zy[0:tp, 1], c=range(tp), cmap='viridis', s=1)\n",
    "    labels = []\n",
    "    L = np.corrcoef(np.concatenate((Zy[:, :2], Y[slice, :]), axis=1), rowvar=False)[2:, :2]\n",
    "    for j in range(Y.shape[1]):\n",
    "        ax2.plot([0, scaleFactor * L[j, 0]], [0, scaleFactor * L[j, 1]], linewidth=.75, color=[.4, .4, .4], zorder=1)\n",
    "        t = ax2.text(scaleFactor * L[j, 0], scaleFactor * L[j, 1], data['locomotion_names'][j], \n",
    "                     ha='center', va='center', color='k', fontsize=6,\n",
    "                     bbox=dict(facecolor='w', edgecolor='#777777', boxstyle='round', linewidth=.5, pad=.2))\n",
    "        labels.append(t)\n",
    "    adjustlabels(fig, ax2, labels)\n",
    "    circ = plt.Circle((0, 0), radius=scaleFactor, color=[.4, .4, .4], fill=False, linewidth=.5)\n",
    "    ax2.add_patch(circ)\n",
    "\n",
    "    # Setting limits and aspect ratio\n",
    "    for ax in axes:\n",
    "        ax.set_xlim([-xylim, xylim])\n",
    "        ax.set_ylim([-xylim, xylim])\n",
    "        ax.set_aspect('equal', adjustable='box')\n",
    "        ax.set_xticks([])\n",
    "        ax.set_yticks([])\n",
    "    \n",
    "    sns.despine(left=True, bottom=True)\n",
    "    \n",
    "    # Save and close the figure\n",
    "    plt.savefig(f'./movie/bibiplot{i}.png')\n",
    "    plt.close(fig)"
   ]
  },
  {
   "cell_type": "code",
   "execution_count": 69,
   "metadata": {},
   "outputs": [
    {
     "name": "stderr",
     "output_type": "stream",
     "text": [
      "/var/folders/j9/6j6_y95j0tl4lmss_d5lyv3w0000gn/T/ipykernel_2009/4126742030.py:11: DeprecationWarning: Starting with ImageIO v3 the behavior of this function will switch to that of iio.v3.imread. To keep the current behavior (and make this warning disappear) use `import imageio.v2 as imageio` or call `imageio.v2.imread` directly.\n",
      "  images.append(imageio.imread(os.path.join(image_dir, filename)))\n"
     ]
    }
   ],
   "source": [
    "# Directory where images are saved\n",
    "image_dir = './movie/'\n",
    "\n",
    "# List of image filenames\n",
    "images = []\n",
    "for i in range(len(slice[::100][1:])):\n",
    "    filename = f'bibiplot{i}.png'\n",
    "    images.append(imageio.imread(os.path.join(image_dir, filename)))\n",
    "\n",
    "# Save as GIF\n",
    "output_file = 'bibiplot_animation.gif'\n",
    "imageio.mimsave(output_file, images, duration=0.5)  # Adjust duration as needed"
   ]
  }
 ],
 "metadata": {
  "kernelspec": {
   "display_name": "my_env",
   "language": "python",
   "name": "python3"
  },
  "language_info": {
   "codemirror_mode": {
    "name": "ipython",
    "version": 3
   },
   "file_extension": ".py",
   "mimetype": "text/x-python",
   "name": "python",
   "nbconvert_exporter": "python",
   "pygments_lexer": "ipython3",
   "version": "3.9.6"
  }
 },
 "nbformat": 4,
 "nbformat_minor": 2
}
