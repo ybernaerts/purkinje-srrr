{
 "cells": [
  {
   "cell_type": "markdown",
   "metadata": {},
   "source": [
    "## Figure: bibiplots"
   ]
  },
  {
   "cell_type": "code",
   "execution_count": 1,
   "metadata": {},
   "outputs": [],
   "source": [
    "import numpy as np\n",
    "import matplotlib.pyplot as plt\n",
    "import pickle\n",
    "from plot_utils import adjustlabels\n",
    "import seaborn as sns\n",
    "import os\n",
    "import imageio\n",
    "\n",
    "import sys\n",
    "sys.path.append('../code')\n",
    "import sparseRRR"
   ]
  },
  {
   "cell_type": "code",
   "execution_count": 2,
   "metadata": {},
   "outputs": [],
   "source": [
    "def preprocess(data, slice_idx, loc_features_idx):\n",
    "    X = data['Firing rate']\n",
    "    X = X[slice_idx,:] # select the time slice\n",
    "    X_mean = np.mean(X, axis=0)\n",
    "    X_std = np.std(X, axis=0)\n",
    "    X = X - X_mean\n",
    "    X = X / X_std\n",
    "\n",
    "    Y = data['Locomotion']\n",
    "    Y = Y[slice_idx,:] # select the time slice\n",
    "    Y = Y[:,loc_features_idx] # select the locomotion features\n",
    "    Y_mean = np.mean(Y, axis=0)\n",
    "    Y_std = np.std(Y, axis=0)\n",
    "    Y = Y - Y_mean\n",
    "    Y = Y / Y_std\n",
    "    \n",
    "    return X,Y, X_mean, X_std, Y_mean, Y_std "
   ]
  },
  {
   "cell_type": "code",
   "execution_count": 3,
   "metadata": {},
   "outputs": [],
   "source": [
    "data = pickle.load(open('../data/purkinje_extended_full.pickle', 'rb'))\n",
    "locomotion_names = data['locomotion_names']\n",
    "cell_names = data['cell_names']"
   ]
  },
  {
   "cell_type": "markdown",
   "metadata": {},
   "source": [
    "Not all timepoints, not all locomotion features:"
   ]
  },
  {
   "cell_type": "code",
   "execution_count": 4,
   "metadata": {},
   "outputs": [
    {
     "data": {
      "text/plain": [
       "array(['X-p FR', 'X-p HR', 'X-p FL', 'X-p HL', 'X-s FR', 'X-s HR',\n",
       "       'X-s FL', 'X-s HL', 'Z-p FR', 'Z-p HR', 'Z-p FL', 'Z-p HL',\n",
       "       'Z-s FR', 'Z-s HR', 'Z-s FL', 'Z-s HL'], dtype='<U11')"
      ]
     },
     "execution_count": 4,
     "metadata": {},
     "output_type": "execute_result"
    }
   ],
   "source": [
    "slice = np.linspace(0, 500000, 500000, dtype=int)\n",
    "selected_features = [5,6,7,8,9,10,11,12,-8,-7,-6,-5,-4,-3,-2,-1] # locomotion features to use\n",
    "np.array(locomotion_names)[selected_features]"
   ]
  },
  {
   "cell_type": "code",
   "execution_count": 6,
   "metadata": {},
   "outputs": [
    {
     "name": "stdout",
     "output_type": "stream",
     "text": [
      "Shape of X: (500000, 105) \n",
      "Shape of Y: (500000, 16)\n",
      "10 neurons selected:\n",
      "[b'MC3808_S7' b'MC3810_S9' b'MC5003_S14' b'MC5003_S21' b'MC5003_S25'\n",
      " b'MC5003_S28' b'MC5003_S30' b'MC5005_S14' b'MC5006_S11' b'MC6001_S5']\n"
     ]
    }
   ],
   "source": [
    "X_tr,Y_tr, X_tr_mean, X_tr_std, Y_tr_mean, Y_tr_std = preprocess(data, slice, selected_features)\n",
    "print('Shape of X:', X_tr.shape, '\\nShape of Y:', Y_tr.shape)\n",
    "w,v = sparseRRR.relaxed_elastic_rrr(X_tr, Y_tr, rank=2, alpha=.66, l1_ratio=1)\n",
    "print('{} neurons selected:'.format(np.sum(w[:,0]!=0)))\n",
    "print(cell_names[w[:,0]!=0])"
   ]
  },
  {
   "cell_type": "markdown",
   "metadata": {},
   "source": [
    "### Movie"
   ]
  },
  {
   "cell_type": "code",
   "execution_count": 7,
   "metadata": {},
   "outputs": [],
   "source": [
    "Y_test = data['Locomotion'][500000:5010000,:]\n",
    "Y_test = Y_test[:,selected_features]\n",
    "X_test = data['Firing rate'][500000:5010000,:]\n",
    "X_test = X_test - X_tr_mean\n",
    "X_test = X_test / X_tr_std\n",
    "Y_test = Y_test - Y_tr_mean\n",
    "Y_test = Y_test / Y_tr_std\n",
    "Zx = X_test @ w\n",
    "Zy = Y_test @ v"
   ]
  },
  {
   "cell_type": "code",
   "execution_count": 20,
   "metadata": {},
   "outputs": [],
   "source": [
    "Y_test = data['Locomotion'][500000:5010000,:]\n",
    "Y_test = Y_test[:,selected_features]\n",
    "X_test = data['Firing rate'][500000:5010000,:]\n",
    "X_test = X_test - X_tr_mean\n",
    "X_test = X_test / X_tr_std\n",
    "Y_test = Y_test - Y_tr_mean\n",
    "Y_test = Y_test / Y_tr_std\n",
    "Zx = X_test @ w\n",
    "Zy = Y_test @ v"
   ]
  },
  {
   "cell_type": "code",
   "execution_count": 21,
   "metadata": {},
   "outputs": [
    {
     "data": {
      "text/plain": [
       "np.float64(0.4396681947229685)"
      ]
     },
     "execution_count": 21,
     "metadata": {},
     "output_type": "execute_result"
    }
   ],
   "source": [
    "test_r2 = 1 - np.sum((Y_test - X_test@w@v.T)**2) / np.sum((Y_test - np.mean(Y_test, axis=0))**2)\n",
    "test_r2"
   ]
  },
  {
   "cell_type": "code",
   "execution_count": 8,
   "metadata": {},
   "outputs": [],
   "source": [
    "slice = np.linspace(0, 10000, 10000, dtype=int)\n",
    "xylim=3.9\n",
    "scaleFactor=3.5\n",
    "s=2\n",
    "time_samples=slice[::10][:5]"
   ]
  },
  {
   "cell_type": "code",
   "execution_count": 9,
   "metadata": {},
   "outputs": [],
   "source": [
    "for i, tp in enumerate(slice[::100][1:]):\n",
    "    fig, axes = plt.subplots(1, 2, figsize=(6, 3))\n",
    "    ax1 = axes[0]\n",
    "    ax2 = axes[1]\n",
    "    \n",
    "    # Plotting on ax1\n",
    "    ax1.scatter(Zx[0:tp, 0], Zx[0:tp, 1], c=range(tp), cmap='viridis', s=1)\n",
    "    labels = []\n",
    "    L = np.corrcoef(np.concatenate((Zx[:, :2], X_test), axis=1), rowvar=False)[2:, :2]\n",
    "    for j in np.where(w[:, 0] != 0)[0]:\n",
    "        ax1.plot([0, scaleFactor * L[j, 0]], [0, scaleFactor * L[j, 1]], linewidth=.75, color=[.4, .4, .4], zorder=1)\n",
    "        t = ax1.text(scaleFactor * L[j, 0], scaleFactor * L[j, 1], data['cell_names'][j], \n",
    "                     ha='center', va='center', color='k', fontsize=6,\n",
    "                     bbox=dict(facecolor='w', edgecolor='#777777', boxstyle='round', linewidth=.5, pad=.2))\n",
    "        labels.append(t)\n",
    "    adjustlabels(fig, ax1, labels)\n",
    "    circ = plt.Circle((0, 0), radius=scaleFactor, color=[.4, .4, .4], fill=False, linewidth=.5)\n",
    "    ax1.add_patch(circ)\n",
    "    \n",
    "    # Plotting on ax2\n",
    "    ax2.scatter(Zy[0:tp, 0], Zy[0:tp, 1], c=range(tp), cmap='viridis', s=1)\n",
    "    labels = []\n",
    "    L = np.corrcoef(np.concatenate((Zy[:, :2], Y_test), axis=1), rowvar=False)[2:, :2]\n",
    "    for j in range(Y_test.shape[1]):\n",
    "        ax2.plot([0, scaleFactor * L[j, 0]], [0, scaleFactor * L[j, 1]], linewidth=.75, color=[.4, .4, .4], zorder=1)\n",
    "        t = ax2.text(scaleFactor * L[j, 0], scaleFactor * L[j, 1], np.array(data['locomotion_names'])[selected_features][j], \n",
    "                     ha='center', va='center', color='k', fontsize=6,\n",
    "                     bbox=dict(facecolor='w', edgecolor='#777777', boxstyle='round', linewidth=.5, pad=.2))\n",
    "        labels.append(t)\n",
    "    adjustlabels(fig, ax2, labels)\n",
    "    circ = plt.Circle((0, 0), radius=scaleFactor, color=[.4, .4, .4], fill=False, linewidth=.5)\n",
    "    ax2.add_patch(circ)\n",
    "\n",
    "    # Setting limits and aspect ratio\n",
    "    for ax in axes:\n",
    "        ax.set_xlim([-xylim, xylim])\n",
    "        ax.set_ylim([-xylim, xylim])\n",
    "        ax.set_aspect('equal', adjustable='box')\n",
    "        ax.set_xticks([])\n",
    "        ax.set_yticks([])\n",
    "    \n",
    "    sns.despine(left=True, bottom=True)\n",
    "    \n",
    "    # Save and close the figure\n",
    "    plt.savefig(f'./movie_ext/bibiplot{i}.png')\n",
    "    plt.close(fig)"
   ]
  },
  {
   "cell_type": "code",
   "execution_count": 10,
   "metadata": {},
   "outputs": [
    {
     "name": "stderr",
     "output_type": "stream",
     "text": [
      "/var/folders/j9/6j6_y95j0tl4lmss_d5lyv3w0000gn/T/ipykernel_1481/1558028202.py:8: DeprecationWarning: Starting with ImageIO v3 the behavior of this function will switch to that of iio.v3.imread. To keep the current behavior (and make this warning disappear) use `import imageio.v2 as imageio` or call `imageio.v2.imread` directly.\n",
      "  images.append(imageio.imread(os.path.join(image_dir, filename)))\n"
     ]
    }
   ],
   "source": [
    "# Directory where images are saved\n",
    "image_dir = './movie_ext/'\n",
    "\n",
    "# List of image filenames\n",
    "images = []\n",
    "for i in range(len(slice[::100][1:])):\n",
    "    filename = f'bibiplot{i}.png'\n",
    "    images.append(imageio.imread(os.path.join(image_dir, filename)))\n",
    "\n",
    "# Save as GIF\n",
    "output_file = 'bibiplot_animation_ext.gif'\n",
    "imageio.mimsave(output_file, images, duration=0.5)  # Adjust duration as needed"
   ]
  }
 ],
 "metadata": {
  "kernelspec": {
   "display_name": "my_env",
   "language": "python",
   "name": "python3"
  },
  "language_info": {
   "codemirror_mode": {
    "name": "ipython",
    "version": 3
   },
   "file_extension": ".py",
   "mimetype": "text/x-python",
   "name": "python",
   "nbconvert_exporter": "python",
   "pygments_lexer": "ipython3",
   "version": "3.9.6"
  }
 },
 "nbformat": 4,
 "nbformat_minor": 2
}
