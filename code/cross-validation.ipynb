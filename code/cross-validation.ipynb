{
 "cells": [
  {
   "cell_type": "markdown",
   "metadata": {},
   "source": [
    "## Perform and pickle cross-validation"
   ]
  },
  {
   "cell_type": "code",
   "execution_count": 1,
   "metadata": {},
   "outputs": [],
   "source": [
    "import numpy as np\n",
    "import pickle\n",
    "import warnings\n",
    "\n",
    "import sparseRRR\n",
    "from sklearn.exceptions import ConvergenceWarning"
   ]
  },
  {
   "cell_type": "code",
   "execution_count": 2,
   "metadata": {},
   "outputs": [],
   "source": [
    "def preprocess(data):\n",
    "    X = data['Firing rate']\n",
    "    X = X - np.mean(X, axis=0)\n",
    "    X = X / np.std(X, axis=0)\n",
    "\n",
    "    Y = data['Locomotion']\n",
    "    Y = Y - np.mean(Y, axis=0)\n",
    "    Y = Y / np.std(Y, axis=0)\n",
    "    \n",
    "    return X,Y"
   ]
  },
  {
   "cell_type": "markdown",
   "metadata": {},
   "source": [
    "## The main cross-validation setup"
   ]
  },
  {
   "cell_type": "code",
   "execution_count": 3,
   "metadata": {},
   "outputs": [
    {
     "name": "stdout",
     "output_type": "stream",
     "text": [
      "Shape of X: (2691968, 105) \n",
      "Shape of Y: (2691968, 4)\n"
     ]
    }
   ],
   "source": [
    "data = pickle.load(open('../data/purkinje.pickle', 'rb'))\n",
    "X,Y = preprocess(data)\n",
    "print('Shape of X:', X.shape, '\\nShape of Y:', Y.shape)"
   ]
  },
  {
   "cell_type": "markdown",
   "metadata": {},
   "source": [
    "It is a lot of timepoints, so let us play around with reduced data set sizes."
   ]
  },
  {
   "cell_type": "code",
   "execution_count": 4,
   "metadata": {},
   "outputs": [],
   "source": [
    "slice = np.linspace(0, 10000, 10000, dtype=int)"
   ]
  },
  {
   "cell_type": "code",
   "execution_count": 11,
   "metadata": {},
   "outputs": [
    {
     "name": "stdout",
     "output_type": "stream",
     "text": [
      "1.......... Time: 0.0h  2m 30s\n",
      "1.......... Time: 0.0h  0m  8s\n",
      "1.......... Time: 0.0h  0m 20s\n",
      "1.......... Time: 0.0h  1m  7s\n",
      "1.......... Time: 0.0h  0m 14s\n"
     ]
    }
   ],
   "source": [
    "alphas = np.concatenate((np.arange(.04,1.01,.1), np.arange(2,5)))\n",
    "l1_ratios = np.array([.25, .5, .75, 1])\n",
    "\n",
    "with warnings.catch_warnings():\n",
    "    warnings.simplefilter(\"ignore\", category=(ConvergenceWarning, RuntimeWarning))\n",
    "    cvresults = sparseRRR.elastic_rrr_cv(X[slice,:], Y[slice,:], rank=2, reps=1, folds=10, alphas=alphas, l1_ratios=l1_ratios)\n",
    "\n",
    "l1_ratios = np.array([1])\n",
    "ranks = np.arange(1, Y.shape[1]+1)\n",
    "\n",
    "cvresults_rank = {}\n",
    "with warnings.catch_warnings():\n",
    "    warnings.simplefilter(\"ignore\", category=(ConvergenceWarning, RuntimeWarning))\n",
    "    for r in ranks:\n",
    "        cvresults_rank[r] = sparseRRR.elastic_rrr_cv(X[slice,:], Y[slice,:], rank=r, reps=1, folds=10, alphas=alphas, l1_ratios=l1_ratios)\n",
    "    \n",
    "pickle.dump([cvresults, cvresults_rank], open('../pickles/cvresults-purkinje.pickle', 'wb'))"
   ]
  },
  {
   "cell_type": "markdown",
   "metadata": {},
   "source": [
    "#### Template code for nested CV"
   ]
  },
  {
   "cell_type": "code",
   "execution_count": 12,
   "metadata": {},
   "outputs": [
    {
     "name": "stdout",
     "output_type": "stream",
     "text": [
      "1.......... Time: 0.0h  2m  0s\n",
      "Optimal l1 ratio: 1.0, alpha to get 10 predictors: 0.2, test R2 = 0.16\n",
      "1.......... Time: 0.0h  2m  2s\n",
      "Optimal l1 ratio: 1.0, alpha to get 10 predictors: 0.2, test R2 = 0.59\n",
      "1.......... Time: 0.0h  2m  1s\n",
      "Optimal l1 ratio: 0.75, alpha to get 10 predictors: 0.4, test R2 = 0.58\n",
      "1.......... Time: 0.0h  2m 17s\n",
      "Optimal l1 ratio: 1.0, alpha to get 10 predictors: 0.2, test R2 = 0.67\n",
      "1.......... Time: 0.0h  2m 11s\n",
      "Optimal l1 ratio: 1.0, alpha to get 10 predictors: 0.3, test R2 = 0.71\n",
      "1.......... Time: 0.0h  2m 20s\n",
      "Optimal l1 ratio: 1.0, alpha to get 10 predictors: 0.2, test R2 = 0.42\n",
      "1.......... Time: 0.0h  2m 15s\n",
      "Optimal l1 ratio: 1.0, alpha to get 10 predictors: 0.2, test R2 = 0.61\n",
      "1.......... Time: 0.0h  2m 12s\n",
      "Optimal l1 ratio: 1.0, alpha to get 10 predictors: 0.2, test R2 = 0.68\n",
      "1.......... Time: 0.0h  2m 23s\n",
      "Optimal l1 ratio: 1.0, alpha to get 10 predictors: 0.2, test R2 = 0.14\n",
      "1.......... Time: 0.0h  2m  3s\n",
      "Optimal l1 ratio: 1.0, alpha to get 10 predictors: 0.2, test R2 = 0.33\n",
      "\n",
      "Average test R2: 0.49\n",
      "\n"
     ]
    }
   ],
   "source": [
    "alphas = np.concatenate((np.arange(.04,1.01,.1), np.arange(2,4)))\n",
    "l1_ratios = np.array([.25, .5, .75, 1])\n",
    "\n",
    "with warnings.catch_warnings():\n",
    "   warnings.simplefilter(\"ignore\", category=(ConvergenceWarning, RuntimeWarning))\n",
    "   sparseRRR.nested_cv(X[slice,:], Y[slice,:], alphas, l1_ratios, target_n_predictors=10)"
   ]
  }
 ],
 "metadata": {
  "kernelspec": {
   "display_name": "my_env",
   "language": "python",
   "name": "python3"
  },
  "language_info": {
   "codemirror_mode": {
    "name": "ipython",
    "version": 3
   },
   "file_extension": ".py",
   "mimetype": "text/x-python",
   "name": "python",
   "nbconvert_exporter": "python",
   "pygments_lexer": "ipython3",
   "version": "3.9.6"
  }
 },
 "nbformat": 4,
 "nbformat_minor": 2
}
