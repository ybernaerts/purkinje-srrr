{
 "cells": [
  {
   "cell_type": "markdown",
   "metadata": {},
   "source": [
    "## Perform and pickle cross-validation"
   ]
  },
  {
   "cell_type": "code",
   "execution_count": 1,
   "metadata": {},
   "outputs": [],
   "source": [
    "import numpy as np\n",
    "import pickle\n",
    "import warnings\n",
    "\n",
    "from sparseRRR import elastic_rrr_cv_honest\n",
    "from sklearn.exceptions import ConvergenceWarning"
   ]
  },
  {
   "cell_type": "markdown",
   "metadata": {},
   "source": [
    "### Load data"
   ]
  },
  {
   "cell_type": "code",
   "execution_count": 2,
   "metadata": {},
   "outputs": [
    {
     "name": "stdout",
     "output_type": "stream",
     "text": [
      "Shape of X_linear: (1816281, 91) Shape of X_nonlinear: (1816281, 91) Shape of X_full: (1816281, 91) Shape of Y: (1816281, 16)\n"
     ]
    }
   ],
   "source": [
    "data = pickle.load(open('../data/purkinje_sRRR.pickle', 'rb'))\n",
    "\n",
    "X_linear, X_nonlinear, X_full, Y = data['Linear mix'], data['Nonlinear only'], data['Full mixing'], data['Locomotion']\n",
    "cell_names = data['cell_names']\n",
    "locomotion_names = data['locomotion_names']\n",
    "\n",
    "print('Shape of X_linear:', X_linear.shape, 'Shape of X_nonlinear:', X_nonlinear.shape, 'Shape of X_full:', X_full.shape, 'Shape of Y:', Y.shape)"
   ]
  },
  {
   "cell_type": "markdown",
   "metadata": {},
   "source": [
    "### The main cross-validation setup"
   ]
  },
  {
   "cell_type": "markdown",
   "metadata": {},
   "source": [
    "Not all timepoints as we have a lot!"
   ]
  },
  {
   "cell_type": "code",
   "execution_count": 3,
   "metadata": {},
   "outputs": [],
   "source": [
    "slice = np.linspace(0, 1000, 1000, dtype=int) # time points to use"
   ]
  },
  {
   "cell_type": "markdown",
   "metadata": {},
   "source": [
    "For fast usage and checking:"
   ]
  },
  {
   "cell_type": "code",
   "execution_count": 4,
   "metadata": {},
   "outputs": [
    {
     "name": "stdout",
     "output_type": "stream",
     "text": [
      "1..... Time: 0.0h  0m  1s\n",
      "1..... Time: 0.0h  0m  2s\n",
      "1..... Time: 0.0h  0m  5s\n"
     ]
    }
   ],
   "source": [
    "cvresults_rank=[]\n",
    "l1_ratios = np.array([1])\n",
    "alphas = np.concatenate((np.arange(.04,1.01,.1), np.arange(2,5)))\n",
    "ranks = np.arange(1, Y.shape[1]+1)\n",
    "cvresults_rank = {}\n",
    "with warnings.catch_warnings():\n",
    "    warnings.simplefilter(\"ignore\", category=(ConvergenceWarning, RuntimeWarning))\n",
    "    for r in range(1,4):\n",
    "        cvresults_rank[r] = elastic_rrr_cv_honest(X_full[slice,:], Y[slice,:], rank=r, reps=1, folds=5, alphas=alphas, l1_ratios=l1_ratios, preprocess=True)"
   ]
  },
  {
   "cell_type": "code",
   "execution_count": 5,
   "metadata": {},
   "outputs": [
    {
     "data": {
      "text/plain": [
       "0.367180715378573"
      ]
     },
     "execution_count": 5,
     "metadata": {},
     "output_type": "execute_result"
    }
   ],
   "source": [
    "# rank : 2 (index is from dict)\n",
    "# 1: relaxed r2 results (0: r2 results, 2: corr results, 3: relaxed corr results,\n",
    "#                       (4: sum of nonzero cells, 5: selected cells, 6: W row L2 norms, 7: relaxed W row L2 norms)\n",
    "# validation fold=3, rep=0, alpha_id = 8, l1_ratio_id=0 \n",
    "\n",
    "# test r^2 : \n",
    "\n",
    "cvresults_rank[2][1][3,0,8,0]"
   ]
  },
  {
   "cell_type": "code",
   "execution_count": 6,
   "metadata": {},
   "outputs": [
    {
     "data": {
      "text/plain": [
       "array([False, False, False, False, False, False,  True, False, False,\n",
       "       False, False, False, False, False, False, False,  True, False,\n",
       "       False, False, False, False, False, False, False, False, False,\n",
       "       False, False, False, False, False, False, False,  True, False,\n",
       "       False,  True, False, False, False, False, False, False, False,\n",
       "       False, False, False, False, False, False, False, False, False,\n",
       "       False, False, False, False, False, False, False, False, False,\n",
       "       False, False, False, False,  True, False, False, False, False,\n",
       "       False, False, False, False, False, False,  True, False,  True,\n",
       "       False, False, False, False, False, False, False, False, False,\n",
       "       False])"
      ]
     },
     "execution_count": 6,
     "metadata": {},
     "output_type": "execute_result"
    }
   ],
   "source": [
    "# cells selected : \n",
    "cvresults_rank[2][5][3,0,8,0,:]"
   ]
  },
  {
   "cell_type": "code",
   "execution_count": 7,
   "metadata": {},
   "outputs": [
    {
     "data": {
      "text/plain": [
       "array([0.        , 0.        , 0.        , 0.        , 0.        ,\n",
       "       0.        , 0.07576618, 0.        , 0.        , 0.        ,\n",
       "       0.        , 0.        , 0.        , 0.        , 0.        ,\n",
       "       0.        , 0.10293011, 0.        , 0.        , 0.        ,\n",
       "       0.        , 0.        , 0.        , 0.        , 0.        ,\n",
       "       0.        , 0.        , 0.        , 0.        , 0.        ,\n",
       "       0.        , 0.        , 0.        , 0.        , 0.91698458,\n",
       "       0.        , 0.        , 0.00291831, 0.        , 0.        ,\n",
       "       0.        , 0.        , 0.        , 0.        , 0.        ,\n",
       "       0.        , 0.        , 0.        , 0.        , 0.        ,\n",
       "       0.        , 0.        , 0.        , 0.        , 0.        ,\n",
       "       0.        , 0.        , 0.        , 0.        , 0.        ,\n",
       "       0.        , 0.        , 0.        , 0.        , 0.        ,\n",
       "       0.        , 0.        , 0.2891748 , 0.        , 0.        ,\n",
       "       0.        , 0.        , 0.        , 0.        , 0.        ,\n",
       "       0.        , 0.        , 0.        , 0.06088664, 0.        ,\n",
       "       0.25460356, 0.        , 0.        , 0.        , 0.        ,\n",
       "       0.        , 0.        , 0.        , 0.        , 0.        ,\n",
       "       0.        ])"
      ]
     },
     "execution_count": 7,
     "metadata": {},
     "output_type": "execute_result"
    }
   ],
   "source": [
    "# W row L2 norms\n",
    "cvresults_rank[2][6][3,0,8,0,:]"
   ]
  },
  {
   "cell_type": "code",
   "execution_count": 8,
   "metadata": {},
   "outputs": [
    {
     "data": {
      "text/plain": [
       "array([0.        , 0.        , 0.        , 0.        , 0.        ,\n",
       "       0.        , 0.38538182, 0.        , 0.        , 0.        ,\n",
       "       0.        , 0.        , 0.        , 0.        , 0.        ,\n",
       "       0.        , 0.3885603 , 0.        , 0.        , 0.        ,\n",
       "       0.        , 0.        , 0.        , 0.        , 0.        ,\n",
       "       0.        , 0.        , 0.        , 0.        , 0.        ,\n",
       "       0.        , 0.        , 0.        , 0.        , 0.59418648,\n",
       "       0.        , 0.        , 0.4504104 , 0.        , 0.        ,\n",
       "       0.        , 0.        , 0.        , 0.        , 0.        ,\n",
       "       0.        , 0.        , 0.        , 0.        , 0.        ,\n",
       "       0.        , 0.        , 0.        , 0.        , 0.        ,\n",
       "       0.        , 0.        , 0.        , 0.        , 0.        ,\n",
       "       0.        , 0.        , 0.        , 0.        , 0.        ,\n",
       "       0.        , 0.        , 0.36237504, 0.        , 0.        ,\n",
       "       0.        , 0.        , 0.        , 0.        , 0.        ,\n",
       "       0.        , 0.        , 0.        , 0.32123144, 0.        ,\n",
       "       0.37810397, 0.        , 0.        , 0.        , 0.        ,\n",
       "       0.        , 0.        , 0.        , 0.        , 0.        ,\n",
       "       0.        ])"
      ]
     },
     "execution_count": 8,
     "metadata": {},
     "output_type": "execute_result"
    }
   ],
   "source": [
    "# relaxed W row L2 norms\n",
    "cvresults_rank[2][7][3,0,8,0,:]"
   ]
  },
  {
   "cell_type": "code",
   "execution_count": 9,
   "metadata": {},
   "outputs": [
    {
     "data": {
      "text/plain": [
       "array(['MC3808_S7', 'MC3810_S9', 'MC5003_S25', 'MC5003_S28', 'MC5006_S11',\n",
       "       'MC6001_S13', 'MC6001_S15'], dtype='<U10')"
      ]
     },
     "execution_count": 9,
     "metadata": {},
     "output_type": "execute_result"
    }
   ],
   "source": [
    "cell_names[cvresults_rank[2][5][3,0,8,0,:]]"
   ]
  },
  {
   "cell_type": "markdown",
   "metadata": {},
   "source": [
    "Now let us do more timepoints and more sincere cross-validation:"
   ]
  },
  {
   "cell_type": "code",
   "execution_count": 10,
   "metadata": {},
   "outputs": [],
   "source": [
    "slice = np.linspace(0, 100000, 100000, dtype=int) # time points to use"
   ]
  },
  {
   "cell_type": "code",
   "execution_count": 11,
   "metadata": {},
   "outputs": [
    {
     "name": "stdout",
     "output_type": "stream",
     "text": [
      "Model:  Linear\n",
      "Shape of X: (100000, 91) \n",
      "Shape of Y: (100000, 16)\n",
      "1..... Time: 0.0h  5m 56s\n",
      "1..... Time: 0.0h  5m 47s\n",
      "1..... Time: 0.0h 14m 50s\n",
      "1..... Time: 0.0h  6m 44s\n",
      "1..... Time: 0.0h 20m 30s\n",
      "1..... Time: 0.0h 29m 51s\n",
      "1..... Time: 0.0h 11m 59s\n",
      "1..... Time: 0.0h 10m 56s\n",
      "1..... Time: 0.0h 13m 49s\n",
      "1..... Time: 0.0h 14m 39s\n",
      "1..... Time: 0.0h 14m 27s\n",
      "1..... Time: 0.0h 13m 36s\n",
      "1..... Time: 0.0h 20m 54s\n",
      "1..... Time: 0.0h  8m 10s\n",
      "1..... Time: 0.0h  9m 42s\n",
      "1..... Time: 0.0h  5m 48s\n",
      "Model:  Nonlinear\n",
      "Shape of X: (100000, 91) \n",
      "Shape of Y: (100000, 16)\n",
      "1..... Time: 0.0h  7m 15s\n",
      "1..... Time: 0.0h  8m 18s\n",
      "1..... Time: 0.0h 11m 49s\n",
      "1..... Time: 0.0h  5m 48s\n",
      "1..... Time: 0.0h  7m 48s\n",
      "1..... Time: 0.0h  6m 55s\n",
      "1..... Time: 0.0h  7m 30s\n",
      "1..... Time: 0.0h  8m 40s\n",
      "1..... Time: 0.0h 15m 12s\n",
      "1..... Time: 0.0h  8m 11s\n",
      "1..... Time: 0.0h  6m 23s\n",
      "1..... Time: 0.0h  7m 51s\n",
      "1..... Time: 0.0h  8m 42s\n",
      "1..... Time: 0.0h  5m 11s\n",
      "1..... Time: 0.0h  5m 41s\n",
      "1..... Time: 0.0h  3m  9s\n",
      "Model:  Full\n",
      "Shape of X: (100000, 91) \n",
      "Shape of Y: (100000, 16)\n",
      "1..... Time: 0.0h  5m 55s\n",
      "1..... Time: 0.0h  4m 60s\n",
      "1..... Time: 0.0h 15m 57s\n",
      "1..... Time: 0.0h  8m 46s\n",
      "1..... Time: 0.0h 21m 32s\n",
      "1..... Time: 0.0h 18m  9s\n",
      "1..... Time: 0.0h 18m 50s\n",
      "1..... Time: 0.0h 10m 41s\n",
      "1..... Time: 0.0h 22m 46s\n",
      "1..... Time: 0.0h 22m 38s\n",
      "1..... Time: 0.0h 20m 21s\n",
      "1..... Time: 0.0h 15m 40s\n",
      "1..... Time: 0.0h 16m 26s\n",
      "1..... Time: 0.0h  9m 52s\n",
      "1..... Time: 0.0h  9m 12s\n",
      "1..... Time: 0.0h  5m 44s\n"
     ]
    }
   ],
   "source": [
    "alphas = np.concatenate((np.arange(.04,1.01,.1), np.arange(2,5)))\n",
    "ranks = np.arange(1, Y.shape[1]+1)\n",
    "l1_ratios = np.array([1])\n",
    "\n",
    "for i, (model, X) in enumerate(zip(['Linear', 'Nonlinear', 'Full'], [X_linear, X_nonlinear, X_full])):\n",
    "    print('Model: ', model)\n",
    "    print('Shape of X:', X[slice,:].shape, '\\nShape of Y:', Y[slice,:].shape)\n",
    "\n",
    "    cvresults_rank = {}\n",
    "    with warnings.catch_warnings():\n",
    "        warnings.simplefilter(\"ignore\", category=(ConvergenceWarning, RuntimeWarning))\n",
    "        for r in ranks:\n",
    "            cvresults_rank[r] = elastic_rrr_cv_honest(X[slice,:], Y[slice,:], rank=r, reps=1, folds=5, alphas=alphas, l1_ratios=l1_ratios, preprocess=True)\n",
    "        \n",
    "    pickle.dump(cvresults_rank, open('../pickles/cvresults-{}.pickle'.format(model), 'wb'))"
   ]
  },
  {
   "cell_type": "markdown",
   "metadata": {},
   "source": [
    "#### Template code for nested CV"
   ]
  },
  {
   "cell_type": "code",
   "execution_count": 10,
   "metadata": {},
   "outputs": [],
   "source": [
    "# alphas = np.concatenate((np.arange(.04,1.01,.1), np.arange(2,4)))\n",
    "# l1_ratios = np.array([.25, .5, .75, 1])\n",
    "\n",
    "# with warnings.catch_warnings():\n",
    "#    warnings.simplefilter(\"ignore\", category=(ConvergenceWarning, RuntimeWarning))\n",
    "#    sparseRRR.nested_cv(X[slice,:], Y[slice,:], alphas, l1_ratios, target_n_predictors=10)"
   ]
  }
 ],
 "metadata": {
  "kernelspec": {
   "display_name": "my_env",
   "language": "python",
   "name": "python3"
  },
  "language_info": {
   "codemirror_mode": {
    "name": "ipython",
    "version": 3
   },
   "file_extension": ".py",
   "mimetype": "text/x-python",
   "name": "python",
   "nbconvert_exporter": "python",
   "pygments_lexer": "ipython3",
   "version": "3.9.6"
  }
 },
 "nbformat": 4,
 "nbformat_minor": 2
}
