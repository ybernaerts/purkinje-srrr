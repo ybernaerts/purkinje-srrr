{
 "cells": [
  {
   "cell_type": "markdown",
   "metadata": {},
   "source": [
    "## Perform and pickle cross-validation"
   ]
  },
  {
   "cell_type": "code",
   "execution_count": 12,
   "metadata": {},
   "outputs": [],
   "source": [
    "import numpy as np\n",
    "import pickle\n",
    "import warnings\n",
    "\n",
    "import sparseRRR\n",
    "from sklearn.exceptions import ConvergenceWarning"
   ]
  },
  {
   "cell_type": "code",
   "execution_count": 13,
   "metadata": {},
   "outputs": [],
   "source": [
    "def preprocess(data, slice_idx, loc_features_idx):\n",
    "    X = data['Firing rate']\n",
    "    X = X[slice_idx,:] # select the time slice\n",
    "    X = X - np.mean(X, axis=0)\n",
    "    X = X / np.std(X, axis=0)\n",
    "\n",
    "    Y = data['Locomotion']\n",
    "    Y = Y[slice_idx,:] # select the time slice\n",
    "    Y = Y[:,loc_features_idx] # select the locomotion features\n",
    "    Y = Y - np.mean(Y, axis=0)\n",
    "    Y = Y / np.std(Y, axis=0)\n",
    "    \n",
    "    return X,Y"
   ]
  },
  {
   "cell_type": "code",
   "execution_count": 14,
   "metadata": {},
   "outputs": [],
   "source": [
    "file_names = [\n",
    "    '../data/purkinje_extended_full.pickle',\n",
    "    '../data/purkinje_extended_nonlinear.pickle',\n",
    "    '../data/purkinje_extended_linear.pickle'\n",
    "]"
   ]
  },
  {
   "cell_type": "markdown",
   "metadata": {},
   "source": [
    "## The main cross-validation setup"
   ]
  },
  {
   "cell_type": "code",
   "execution_count": 15,
   "metadata": {},
   "outputs": [],
   "source": [
    "data = pickle.load(open('../data/purkinje_extended.pickle', 'rb'))\n",
    "locomotion_names = data['locomotion_names']"
   ]
  },
  {
   "cell_type": "markdown",
   "metadata": {},
   "source": [
    "Not all timepoints, not all locomotion features:"
   ]
  },
  {
   "cell_type": "code",
   "execution_count": 16,
   "metadata": {},
   "outputs": [],
   "source": [
    "slice = np.linspace(0, 100000, 100000, dtype=int) # time points to use"
   ]
  },
  {
   "cell_type": "code",
   "execution_count": 17,
   "metadata": {},
   "outputs": [
    {
     "data": {
      "text/plain": [
       "array(['X-p FR', 'X-p HR', 'X-p FL', 'X-p HL', 'X-s FR', 'X-s HR',\n",
       "       'X-s FL', 'X-s HL', 'Z-p FR', 'Z-p HR', 'Z-p FL', 'Z-p HL',\n",
       "       'Z-s FR', 'Z-s HR', 'Z-s FL', 'Z-s HL'], dtype='<U11')"
      ]
     },
     "execution_count": 17,
     "metadata": {},
     "output_type": "execute_result"
    }
   ],
   "source": [
    "selected_features = [5,6,7,8,9,10,11,12,-8,-7,-6,-5,-4,-3,-2,-1] # locomotion features to use\n",
    "np.array(locomotion_names)[selected_features]"
   ]
  },
  {
   "cell_type": "code",
   "execution_count": null,
   "metadata": {},
   "outputs": [],
   "source": [
    "for file_name in file_names[::-1]:\n",
    "    print('Processing: ', file_name.split('/')[2].split('.')[0])\n",
    "    \n",
    "    data = pickle.load(open('../data/'+file_name, 'rb'))\n",
    "    X,Y = preprocess(data, slice, selected_features)\n",
    "    print('Shape of X:', X.shape, '\\nShape of Y:', Y.shape)\n",
    "\n",
    "    alphas = np.concatenate((np.arange(.04,1.01,.1), np.arange(2,5)))\n",
    "    l1_ratios = np.array([.25, .5, .75, 1])\n",
    "    with warnings.catch_warnings():\n",
    "        warnings.simplefilter(\"ignore\", category=(ConvergenceWarning, RuntimeWarning))\n",
    "        cvresults = sparseRRR.elastic_rrr_cv(X, Y, rank=2, reps=1, folds=10, alphas=alphas, l1_ratios=l1_ratios)\n",
    "    \n",
    "    l1_ratios = np.array([1])\n",
    "    ranks = np.arange(1, Y.shape[1]+1)\n",
    "    cvresults_rank = {}\n",
    "    with warnings.catch_warnings():\n",
    "        warnings.simplefilter(\"ignore\", category=(ConvergenceWarning, RuntimeWarning))\n",
    "        for r in ranks:\n",
    "            cvresults_rank[r] = sparseRRR.elastic_rrr_cv(X, Y, rank=r, reps=1, folds=10, alphas=alphas, l1_ratios=l1_ratios)\n",
    "        \n",
    "    pickle.dump([cvresults, cvresults_rank], open('../pickles/cvresults-{}.pickle'.format(file_name.split('/')[2].split('.')[0]), 'wb'))"
   ]
  },
  {
   "cell_type": "markdown",
   "metadata": {},
   "source": [
    "#### Template code for nested CV"
   ]
  },
  {
   "cell_type": "code",
   "execution_count": null,
   "metadata": {},
   "outputs": [],
   "source": [
    "alphas = np.concatenate((np.arange(.04,1.01,.1), np.arange(2,4)))\n",
    "l1_ratios = np.array([.25, .5, .75, 1])\n",
    "\n",
    "with warnings.catch_warnings():\n",
    "   warnings.simplefilter(\"ignore\", category=(ConvergenceWarning, RuntimeWarning))\n",
    "   sparseRRR.nested_cv(X[slice,:], Y[slice,:], alphas, l1_ratios, target_n_predictors=10)"
   ]
  }
 ],
 "metadata": {
  "kernelspec": {
   "display_name": "my_env",
   "language": "python",
   "name": "python3"
  },
  "language_info": {
   "codemirror_mode": {
    "name": "ipython",
    "version": 3
   },
   "file_extension": ".py",
   "mimetype": "text/x-python",
   "name": "python",
   "nbconvert_exporter": "python",
   "pygments_lexer": "ipython3",
   "version": "3.9.6"
  }
 },
 "nbformat": 4,
 "nbformat_minor": 2
}
