{
 "cells": [
  {
   "cell_type": "code",
   "execution_count": 1,
   "metadata": {},
   "outputs": [],
   "source": [
    "import numpy as np\n",
    "import matplotlib.pyplot as plt\n",
    "import pickle\n",
    "\n",
    "import seaborn as sns\n",
    "\n",
    "import sys\n",
    "sys.path.append('../code')\n",
    "import sparseRRR"
   ]
  },
  {
   "cell_type": "code",
   "execution_count": 2,
   "metadata": {},
   "outputs": [],
   "source": [
    "def preprocess(data, slice_idx, loc_features_idx):\n",
    "    X = data['Firing rate']\n",
    "    X = X[slice_idx,:] # select the time slice\n",
    "    X_mean = np.mean(X, axis=0)\n",
    "    X_std = np.std(X, axis=0)\n",
    "    X = X - X_mean\n",
    "    X = X / X_std\n",
    "\n",
    "    Y = data['Locomotion']\n",
    "    Y = Y[slice_idx,:] # select the time slice\n",
    "    Y = Y[:,loc_features_idx] # select the locomotion features\n",
    "    Y_mean = np.mean(Y, axis=0)\n",
    "    Y_std = np.std(Y, axis=0)\n",
    "    Y = Y - Y_mean\n",
    "    Y = Y / Y_std\n",
    "    \n",
    "    return X,Y, X_mean, X_std, Y_mean, Y_std "
   ]
  },
  {
   "cell_type": "code",
   "execution_count": 3,
   "metadata": {},
   "outputs": [],
   "source": [
    "data = pickle.load(open('../data/purkinje_extended_nonlinear.pickle', 'rb'))\n",
    "locomotion_names = data['locomotion_names']\n",
    "cell_names = data['cell_names']"
   ]
  },
  {
   "cell_type": "markdown",
   "metadata": {},
   "source": [
    "Not all timepoints, not all locomotion features:"
   ]
  },
  {
   "cell_type": "code",
   "execution_count": 4,
   "metadata": {},
   "outputs": [
    {
     "data": {
      "text/plain": [
       "array(['X-p FR', 'X-p HR', 'X-p FL', 'X-p HL', 'X-s FR', 'X-s HR',\n",
       "       'X-s FL', 'X-s HL', 'Z-p FR', 'Z-p HR', 'Z-p FL', 'Z-p HL',\n",
       "       'Z-s FR', 'Z-s HR', 'Z-s FL', 'Z-s HL'], dtype='<U11')"
      ]
     },
     "execution_count": 4,
     "metadata": {},
     "output_type": "execute_result"
    }
   ],
   "source": [
    "slice = np.linspace(0, 10000, 10000, dtype=int)\n",
    "selected_features = [5,6,7,8,9,10,11,12,-8,-7,-6,-5,-4,-3,-2,-1] # locomotion features to use\n",
    "np.array(locomotion_names)[selected_features]"
   ]
  },
  {
   "cell_type": "code",
   "execution_count": 5,
   "metadata": {},
   "outputs": [
    {
     "name": "stdout",
     "output_type": "stream",
     "text": [
      "Rank: 1\n",
      "10 neurons selected:\n",
      "[b'MC4017_S2' b'MC5003_S20' b'MC5003_S25' b'MC5003_S30' b'MC5003_S5'\n",
      " b'MC5005_S2' b'MC5005_S6' b'MC5006_S10' b'MC5006_S3' b'MC6001_S7']\n",
      "Rank: 2\n",
      "10 neurons selected:\n",
      "[b'MC5003_S1' b'MC5003_S20' b'MC5003_S28' b'MC5003_S30' b'MC5003_S8'\n",
      " b'MC5005_S12' b'MC5005_S2' b'MC5005_S6' b'MC5006_S3' b'MC6002_S2']\n",
      "Rank: 3\n",
      "10 neurons selected:\n",
      "[b'MC4017_S7' b'MC5003_S1' b'MC5003_S28' b'MC5003_S30' b'MC5003_S7'\n",
      " b'MC5003_S8' b'MC5005_S12' b'MC5006_S10' b'MC5006_S3' b'MC6002_S2']\n",
      "Rank: 4\n",
      "10 neurons selected:\n",
      "[b'MC4017_S7' b'MC5003_S1' b'MC5003_S28' b'MC5003_S30' b'MC5003_S7'\n",
      " b'MC5003_S8' b'MC5005_S12' b'MC5006_S10' b'MC5006_S3' b'MC6002_S2']\n",
      "Rank: 5\n",
      "10 neurons selected:\n",
      "[b'MC3810_S1' b'MC4017_S7' b'MC5003_S1' b'MC5003_S28' b'MC5003_S30'\n",
      " b'MC5003_S7' b'MC5003_S8' b'MC5005_S12' b'MC5006_S10' b'MC6002_S2']\n",
      "Rank: 6\n",
      "10 neurons selected:\n",
      "[b'MC3810_S1' b'MC4017_S7' b'MC5003_S1' b'MC5003_S28' b'MC5003_S30'\n",
      " b'MC5003_S7' b'MC5003_S8' b'MC5005_S12' b'MC5006_S10' b'MC6002_S2']\n",
      "Rank: 7\n",
      "10 neurons selected:\n",
      "[b'MC3810_S1' b'MC4017_S7' b'MC5003_S1' b'MC5003_S28' b'MC5003_S30'\n",
      " b'MC5003_S7' b'MC5003_S8' b'MC5005_S12' b'MC5006_S10' b'MC6002_S2']\n",
      "Rank: 8\n",
      "10 neurons selected:\n",
      "[b'MC3810_S1' b'MC4017_S7' b'MC5003_S1' b'MC5003_S28' b'MC5003_S30'\n",
      " b'MC5003_S7' b'MC5003_S8' b'MC5005_S12' b'MC5006_S10' b'MC6002_S2']\n",
      "Rank: 9\n",
      "10 neurons selected:\n",
      "[b'MC3810_S1' b'MC4017_S7' b'MC5003_S1' b'MC5003_S28' b'MC5003_S30'\n",
      " b'MC5003_S7' b'MC5003_S8' b'MC5005_S12' b'MC5006_S10' b'MC6002_S2']\n",
      "Rank: 10\n",
      "10 neurons selected:\n",
      "[b'MC3810_S1' b'MC4017_S7' b'MC5003_S1' b'MC5003_S28' b'MC5003_S30'\n",
      " b'MC5003_S7' b'MC5003_S8' b'MC5005_S12' b'MC5006_S10' b'MC6002_S2']\n"
     ]
    }
   ],
   "source": [
    "alphas = [0.5, 0.55, 0.67, 0.72, 0.78, 0.79, 0.79, 0.8, 0.8, 0.81]#, 0.9]#, 0.93, 0.98, 1.03, 1.08, 1.13, 1.18, 1.23, 1.28, 1.33]\n",
    "neurons_selected = []\n",
    "X_tr,Y_tr, X_tr_mean, X_tr_std, Y_tr_mean, Y_tr_std = preprocess(data, slice, selected_features)\n",
    "for r in range(1,11):\n",
    "    print('Rank:', r)\n",
    "    w,v = sparseRRR.relaxed_elastic_rrr(X_tr, Y_tr, rank=r, alpha=alphas[r-1], l1_ratio=1)\n",
    "    print('{} neurons selected:'.format(np.sum(w[:,0]!=0)))\n",
    "    print(cell_names[w[:,0]!=0])\n",
    "    neurons_selected.append(np.array(cell_names[w[:,0]!=0]))"
   ]
  },
  {
   "cell_type": "code",
   "execution_count": 6,
   "metadata": {},
   "outputs": [
    {
     "name": "stdout",
     "output_type": "stream",
     "text": [
      "[b'MC5003_S20' b'MC5003_S30' b'MC5005_S2' b'MC5005_S6' b'MC5006_S3']\n",
      "[b'MC5003_S1' b'MC5003_S28' b'MC5003_S30' b'MC5003_S8' b'MC5005_S12'\n",
      " b'MC5006_S3' b'MC6002_S2']\n",
      "[b'MC4017_S7' b'MC5003_S1' b'MC5003_S28' b'MC5003_S30' b'MC5003_S7'\n",
      " b'MC5003_S8' b'MC5005_S12' b'MC5006_S10' b'MC5006_S3' b'MC6002_S2']\n",
      "[b'MC4017_S7' b'MC5003_S1' b'MC5003_S28' b'MC5003_S30' b'MC5003_S7'\n",
      " b'MC5003_S8' b'MC5005_S12' b'MC5006_S10' b'MC6002_S2']\n",
      "[b'MC3810_S1' b'MC4017_S7' b'MC5003_S1' b'MC5003_S28' b'MC5003_S30'\n",
      " b'MC5003_S7' b'MC5003_S8' b'MC5005_S12' b'MC5006_S10' b'MC6002_S2']\n",
      "[b'MC3810_S1' b'MC4017_S7' b'MC5003_S1' b'MC5003_S28' b'MC5003_S30'\n",
      " b'MC5003_S7' b'MC5003_S8' b'MC5005_S12' b'MC5006_S10' b'MC6002_S2']\n",
      "[b'MC3810_S1' b'MC4017_S7' b'MC5003_S1' b'MC5003_S28' b'MC5003_S30'\n",
      " b'MC5003_S7' b'MC5003_S8' b'MC5005_S12' b'MC5006_S10' b'MC6002_S2']\n",
      "[b'MC3810_S1' b'MC4017_S7' b'MC5003_S1' b'MC5003_S28' b'MC5003_S30'\n",
      " b'MC5003_S7' b'MC5003_S8' b'MC5005_S12' b'MC5006_S10' b'MC6002_S2']\n",
      "[b'MC3810_S1' b'MC4017_S7' b'MC5003_S1' b'MC5003_S28' b'MC5003_S30'\n",
      " b'MC5003_S7' b'MC5003_S8' b'MC5005_S12' b'MC5006_S10' b'MC6002_S2']\n"
     ]
    }
   ],
   "source": [
    "for i in range(9):\n",
    "    print(np.intersect1d(neurons_selected[i], neurons_selected[i+1]))"
   ]
  }
 ],
 "metadata": {
  "kernelspec": {
   "display_name": "my_env",
   "language": "python",
   "name": "python3"
  },
  "language_info": {
   "codemirror_mode": {
    "name": "ipython",
    "version": 3
   },
   "file_extension": ".py",
   "mimetype": "text/x-python",
   "name": "python",
   "nbconvert_exporter": "python",
   "pygments_lexer": "ipython3",
   "version": "3.9.6"
  }
 },
 "nbformat": 4,
 "nbformat_minor": 2
}
